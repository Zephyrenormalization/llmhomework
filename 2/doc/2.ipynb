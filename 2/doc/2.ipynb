{
 "cells": [
  {
   "cell_type": "markdown",
   "metadata": {},
   "source": [
    "# 大语言模型技术与方法第二次作业\n",
    "## 计算题描述\n",
    "推导多头注意力的训练运算量估计，分为以下两部分进行推导：\n",
    "- 一、推导softmax操作运算量；\n",
    "- 二、推导softmax操作后，与V相乘的运算量。\n",
    "## 计算题解答\n",
    "### 一、推导softmax操作运算量\n",
    "首先写出softmax的公式：\n",
    "$$\n",
    "\\text{softmax}(x_i) = \\frac{e^{x_i}}{\\sum_{j=1}^{N} e^{x_j}}\n",
    "$$\n",
    "\n",
    "为了推导softmax运算量我们首先需要弄清softmax里面矩阵即$\\frac{QK^T}{\\sqrt{D}}$\n",
    "的维数，首先我们明确一些符号：\n",
    "\n",
    "模型的批处理大小为$B$，输入序列的长度为$T$，头数为$N$，每个头的维度为$D$，则查询，键，值张量：$Q, K, V \\in \\mathbb{R}^{B\\times N\\times T \\times D}$\n",
    "\n",
    "所以$QK^T$的维数为$B\\times N\\times T\\times T$，即$QK^T \\in \\mathbb{R}^{B\\times N\\times T\\times T}$\n",
    "\n",
    "对于每一个批次的每一个注意力头而言，这样softmax需要对一个$T\\times T$ 矩阵的每一个元素做一次指数运算，运算量为$T^2$\n",
    "，然后对所有的$T$个元素做一次求和运算，运算量为$T^2$，最后对每一个元素做一次除法运算，运算量为$T^2$，而这样的过程需要重复$B\\times N$次所以softmax操作的总运算量为： \n",
    "$$\n",
    "\\text{softmax} \\text{运算量} = B\\times N \\times (T^2 + T^2 + T^2) = 3B N  T^2\n",
    "$$\n",
    "\n",
    "### 二、推导softmax操作后，与V相乘的运算量\n",
    "操作之后我们得到的系数维度为$B\\times N\\times T\\times T$，而值张量V的维度为$B\\times N\\times T\\times D$，首先一个$T\\times T$的矩阵和一个$T\\times D$的矩阵相乘，运算量为$2T^2 D$，而这样的操作需要重复$B\\times N$次，所以softmax操作后与V相乘的总运算量为：\n",
    "$$\n",
    "\\text{softmax后与V相乘运算量} = B\\times N \\times 2T^2 D\n",
    "$$"
   ]
  }
 ],
 "metadata": {
  "language_info": {
   "name": "python"
  }
 },
 "nbformat": 4,
 "nbformat_minor": 2
}
